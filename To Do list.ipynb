{
 "cells": [
  {
   "cell_type": "code",
   "execution_count": null,
   "id": "275f490c",
   "metadata": {},
   "outputs": [],
   "source": [
    "user_input=''\n",
    "data=[]\n",
    "enum_list=[]\n",
    "def show_menu():\n",
    "    print('\\n')\n",
    "    print('MENU')\n",
    "    print('1 -- Add an item')\n",
    "    print('2 -- Mark as done')\n",
    "    print('3 -- view list')\n",
    "    print('4 -- Exit')\n",
    "def view_list():\n",
    "    enum_data=list(enumerate(data))\n",
    "    for count,enum_data in enumerate(data,1):\n",
    "            print(count,'--',enum_data)\n",
    "            \n",
    "            \n",
    "def strike(text):\n",
    "    return ''.join([u'\\u0336{}'.format(c) for c in text])            \n",
    "            \n",
    "show_menu()\n",
    "while(user_input)!='4':\n",
    "    \n",
    "    user_input=input('Enter your choice of function')\n",
    "    \n",
    "    if user_input=='1':\n",
    "        item=input('What is to be added?')\n",
    "        data.append(item)\n",
    "        print('Added --- ',item)\n",
    "    elif user_input=='2':\n",
    "        view_list()\n",
    "        strike_out=int(input('Enter the item to be deleted :'))\n",
    "        for item in data:\n",
    "            if item==data[strike_out-1]:\n",
    "                print(strike(data[strike_out-1]))\n",
    "                continue\n",
    "            print(item)\n",
    "            \n",
    "        \n",
    "    elif user_input=='3':\n",
    "        print('\\n')\n",
    "        print('YOUR TO-DO LIST:')\n",
    "        view_list()\n",
    "                \n",
    "    elif user_input=='4':\n",
    "        print('Goodbye!')\n",
    "    else:\n",
    "        print('Enter one of 1,2,3 or 4')  "
   ]
  },
  {
   "cell_type": "code",
   "execution_count": null,
   "id": "ef19d5ac",
   "metadata": {},
   "outputs": [],
   "source": []
  },
  {
   "cell_type": "code",
   "execution_count": null,
   "id": "5656b8ab",
   "metadata": {},
   "outputs": [],
   "source": []
  }
 ],
 "metadata": {
  "kernelspec": {
   "display_name": "Python 3 (ipykernel)",
   "language": "python",
   "name": "python3"
  },
  "language_info": {
   "codemirror_mode": {
    "name": "ipython",
    "version": 3
   },
   "file_extension": ".py",
   "mimetype": "text/x-python",
   "name": "python",
   "nbconvert_exporter": "python",
   "pygments_lexer": "ipython3",
   "version": "3.9.7"
  }
 },
 "nbformat": 4,
 "nbformat_minor": 5
}
